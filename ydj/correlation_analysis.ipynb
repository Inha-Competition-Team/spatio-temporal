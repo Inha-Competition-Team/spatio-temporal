{
 "cells": [
  {
   "cell_type": "code",
   "execution_count": null,
   "id": "066693e0",
   "metadata": {
    "pycharm": {
     "name": "#%%\n"
    }
   },
   "outputs": [],
   "source": [
    "%load_ext autoreload\n",
    "%autoreload 2\n",
    "\n",
    "import os\n",
    "import sys\n",
    "sys.path.append(os.path.dirname(os.getcwd()))\n",
    "\n",
    "from common import *\n",
    "from ydj.analysis_tools import *"
   ]
  },
  {
   "cell_type": "markdown",
   "id": "76669c41",
   "metadata": {
    "pycharm": {
     "name": "#%% md\n"
    }
   },
   "source": [
    "# 1. Load dataset"
   ]
  },
  {
   "cell_type": "code",
   "execution_count": null,
   "id": "b36e2bc1",
   "metadata": {
    "pycharm": {
     "name": "#%%\n"
    }
   },
   "outputs": [],
   "source": [
    "data = pd.read_csv(join(PATH.input, 'train_data.csv'))\n",
    "print(len(data))\n",
    "data.head()"
   ]
  },
  {
   "cell_type": "markdown",
   "id": "be87c216",
   "metadata": {},
   "source": [
    "# 2. Preprocessing"
   ]
  },
  {
   "cell_type": "markdown",
   "id": "886f7834",
   "metadata": {},
   "source": [
    "## 1) Generate `Time`"
   ]
  },
  {
   "cell_type": "code",
   "execution_count": null,
   "id": "66da88b6",
   "metadata": {},
   "outputs": [],
   "source": [
    "%%time\n",
    "data = generate_full_timestamp(data)\n",
    "data = impute_data(data)\n",
    "data.head()"
   ]
  },
  {
   "cell_type": "markdown",
   "id": "f9951fb6",
   "metadata": {},
   "source": [
    "## 2) Feature engineering"
   ]
  },
  {
   "cell_type": "code",
   "execution_count": null,
   "id": "7e636365",
   "metadata": {},
   "outputs": [],
   "source": [
    "%%time\n",
    "data_proc = preprocess(data)\n",
    "data_proc"
   ]
  },
  {
   "cell_type": "code",
   "execution_count": null,
   "id": "8c3f7634",
   "metadata": {},
   "outputs": [],
   "source": [
    "data_proc = data_proc[list(data_proc.columns.drop(['Patv', 'Tmstamp', 'X', 'Y', 'Etmp_abs'])) + ['Patv']]\n",
    "data_proc"
   ]
  },
  {
   "cell_type": "markdown",
   "id": "ce81784f",
   "metadata": {},
   "source": [
    "# 3. Get correlation"
   ]
  },
  {
   "cell_type": "code",
   "execution_count": null,
   "id": "c2f81ea0",
   "metadata": {},
   "outputs": [],
   "source": [
    "d = data_proc[data_proc['TurbID'] == 1]\n",
    "d.drop(columns=['TurbID'], inplace=True)\n",
    "d"
   ]
  },
  {
   "cell_type": "code",
   "execution_count": null,
   "id": "b1cc789a",
   "metadata": {},
   "outputs": [],
   "source": [
    "from analysis_tools.eda import *\n",
    "plt.style.use('ggplot')"
   ]
  },
  {
   "cell_type": "code",
   "execution_count": null,
   "id": "de8a5d69",
   "metadata": {},
   "outputs": [],
   "source": [
    "plot_corr(d.corr(), figsize=(15, 8))"
   ]
  },
  {
   "cell_type": "code",
   "execution_count": null,
   "id": "0c0eddef",
   "metadata": {
    "scrolled": false
   },
   "outputs": [],
   "source": [
    "plot_corr(data_proc.corr(), figsize=(15, 8))"
   ]
  },
  {
   "cell_type": "code",
   "execution_count": null,
   "id": "1fb5741d",
   "metadata": {},
   "outputs": [],
   "source": [
    "sns.pairplot(d.iloc[:288])"
   ]
  },
  {
   "cell_type": "code",
   "execution_count": null,
   "id": "ea88641e",
   "metadata": {},
   "outputs": [],
   "source": [
    "%%time\n",
    "sns.pairplot(d.iloc[:144])"
   ]
  },
  {
   "cell_type": "code",
   "execution_count": null,
   "id": "f18160f8",
   "metadata": {},
   "outputs": [],
   "source": [
    "%%time\n",
    "sns.pairplot(d.iloc[144:288])"
   ]
  },
  {
   "cell_type": "markdown",
   "id": "2b1cda4f",
   "metadata": {},
   "source": [
    "# 4. Time series analysis"
   ]
  },
  {
   "cell_type": "code",
   "execution_count": null,
   "id": "b6e11a39",
   "metadata": {
    "pycharm": {
     "name": "#%%\n"
    }
   },
   "outputs": [],
   "source": [
    "from sklearn.model_selection import train_test_split\n",
    "from sklearn.metrics import r2_score\n",
    "import statsmodels.api as sm\n",
    "from statsmodels.graphics.tsaplots import plot_acf, plot_pacf\n",
    "from statsmodels.tsa.statespace.sarimax import SARIMAX\n",
    "# from pmdarima.arima import auto_arima\n",
    "from statsmodels.tsa.arima.model import ARIMA\n",
    "\n",
    "plt.style.use('ggplot')"
   ]
  },
  {
   "cell_type": "code",
   "execution_count": null,
   "outputs": [],
   "source": [
    "%%time\n",
    "data = pd.read_csv(join(PATH.input, 'train_data.csv'))\n",
    "data = generate_full_timestamp(data)\n",
    "data = impute_data(data)\n",
    "data = preprocess(data)"
   ],
   "metadata": {
    "collapsed": false,
    "pycharm": {
     "name": "#%%\n"
    }
   }
  },
  {
   "cell_type": "code",
   "execution_count": null,
   "outputs": [],
   "source": [
    "%%time\n",
    "data_tid = data[data['TurbID'] == 1]\n",
    "data_tid['T'] = data_tid.apply(lambda row: pd.to_timedelta(f\"{row['Day']} days {row['Tmstamp']}:00\"), axis='columns')\n",
    "data_tid"
   ],
   "metadata": {
    "collapsed": false,
    "pycharm": {
     "name": "#%%\n"
    }
   }
  },
  {
   "cell_type": "code",
   "execution_count": null,
   "outputs": [],
   "source": [
    "data = data[['TurbID', 'Day', 'Patv', 'Wspd']]\n",
    "data"
   ],
   "metadata": {
    "collapsed": false,
    "pycharm": {
     "name": "#%%\n"
    }
   }
  },
  {
   "cell_type": "code",
   "execution_count": null,
   "outputs": [],
   "source": [
    "d = data_tid.query(\"TurbID == 1 and Day <= 10\")\n",
    "d"
   ],
   "metadata": {
    "collapsed": false,
    "pycharm": {
     "name": "#%%\n"
    }
   }
  },
  {
   "cell_type": "code",
   "execution_count": null,
   "outputs": [],
   "source": [
    "plt.style.use('ggplot')"
   ],
   "metadata": {
    "collapsed": false,
    "pycharm": {
     "name": "#%%\n"
    }
   }
  },
  {
   "cell_type": "code",
   "execution_count": null,
   "outputs": [],
   "source": [
    "ax = d.set_index('T')['Patv'].plot(figsize=(20, 10))\n",
    "plt.gcf().autofmt_xdate()"
   ],
   "metadata": {
    "collapsed": false,
    "pycharm": {
     "name": "#%%\n"
    }
   }
  },
  {
   "cell_type": "code",
   "execution_count": null,
   "outputs": [],
   "source": [
    "%%time\n",
    "from statsmodels.tsa.seasonal import seasonal_decompose\n",
    "\n",
    "decomp = seasonal_decompose(d['Patv'], period=1)\n",
    "fig = decomp.plot()\n",
    "fig.set_size_inches((30, 10))\n",
    "fig.tight_layout()"
   ],
   "metadata": {
    "collapsed": false,
    "pycharm": {
     "name": "#%%\n"
    }
   }
  },
  {
   "cell_type": "code",
   "execution_count": null,
   "outputs": [],
   "source": [
    "%%time\n",
    "from statsmodels.tsa.seasonal import seasonal_decompose\n",
    "\n",
    "decomp = seasonal_decompose(d['Patv'], period=144)\n",
    "fig = decomp.plot()\n",
    "fig.set_size_inches((30, 10))\n",
    "fig.tight_layout()"
   ],
   "metadata": {
    "collapsed": false,
    "pycharm": {
     "name": "#%%\n"
    }
   }
  },
  {
   "cell_type": "code",
   "execution_count": null,
   "outputs": [],
   "source": [
    "train_data, test_data = train_test_split(d, test_size=144, shuffle=False)"
   ],
   "metadata": {
    "collapsed": false,
    "pycharm": {
     "name": "#%%\n"
    }
   }
  },
  {
   "cell_type": "code",
   "execution_count": null,
   "outputs": [],
   "source": [
    "from statsmodels.graphics.tsaplots import plot_acf, plot_pacf, month_plot, quarter_plot"
   ],
   "metadata": {
    "collapsed": false,
    "pycharm": {
     "name": "#%%\n"
    }
   }
  },
  {
   "cell_type": "code",
   "execution_count": null,
   "outputs": [],
   "source": [
    "%%time\n",
    "fig, ax = plt.subplots(2, figsize=(30, 10))\n",
    "plot_acf(train_data['Patv'], ax=ax[0], lags=30)\n",
    "plot_pacf(train_data['Patv'], ax=ax[1], lags=30)"
   ],
   "metadata": {
    "collapsed": false,
    "pycharm": {
     "name": "#%%\n"
    }
   }
  },
  {
   "cell_type": "code",
   "execution_count": null,
   "outputs": [],
   "source": [
    "diff_train_data = train_data['Patv'].diff()\n",
    "diff_train_data = diff_train_data.dropna()"
   ],
   "metadata": {
    "collapsed": false,
    "pycharm": {
     "name": "#%%\n"
    }
   }
  },
  {
   "cell_type": "code",
   "execution_count": null,
   "outputs": [],
   "source": [
    "fig, axes = plt.subplots(2, 1, figsize=(40, 10))\n",
    "axes[0].plot(train_data['Patv'])\n",
    "axes[1].plot(diff_train_data);"
   ],
   "metadata": {
    "collapsed": false,
    "pycharm": {
     "name": "#%%\n"
    }
   }
  },
  {
   "cell_type": "code",
   "execution_count": null,
   "outputs": [],
   "source": [
    "%%time\n",
    "fig, ax = plt.subplots(2, figsize=(30, 10))\n",
    "plot_acf(diff_train_data, ax=ax[0], lags=30)\n",
    "plot_pacf(diff_train_data, ax=ax[1], lags=30)"
   ],
   "metadata": {
    "collapsed": false,
    "pycharm": {
     "name": "#%%\n"
    }
   }
  },
  {
   "cell_type": "code",
   "execution_count": null,
   "outputs": [],
   "source": [
    "# auto_arima_model = auto_arima(tmp, start_p=1, start_q=1, max_p=2, max_q=2,\n",
    "#                               start_P=1, start_Q=1, max_P=2, max_Q=2, m=144, seasonal=True,\n",
    "#                               d=1, D=1,\n",
    "#                               trace=True,\n",
    "#                               error_action='ignore',\n",
    "#                               suppress_warnings=True,\n",
    "#                               stepwise=False, n_jobs=-1)"
   ],
   "metadata": {
    "collapsed": false,
    "pycharm": {
     "name": "#%%\n"
    }
   }
  },
  {
   "cell_type": "code",
   "execution_count": null,
   "outputs": [],
   "source": [
    "%%time\n",
    "from itertools import product\n",
    "\n",
    "orders = [(0, 1, 0)]  # (p, d, q)\n",
    "seasonal_orders = [(0, 1, 0, 144), (0, 1, 1, 144), (1, 1, 0, 144), (1, 1, 1, 144)]  # (P, D, Q, S)\n",
    "\n",
    "for order, seasonal_order in product(orders, seasonal_orders):\n",
    "    model = SARIMAX(train_data['Patv'], order=order, seasonal_order=seasonal_order)  # order=(p, d, q)\n",
    "    model_fit = model.fit()\n",
    "    print(order, seasonal_order, ':', model_fit.aic)"
   ],
   "metadata": {
    "collapsed": false,
    "pycharm": {
     "name": "#%%\n"
    }
   }
  },
  {
   "cell_type": "code",
   "execution_count": null,
   "outputs": [],
   "source": [
    "model = SARIMAX(train_data['Patv'], order=(0, 1, 0), seasonal_order=(0, 1, 1, 144))  # order=(p, d, q)\n",
    "model_fit = model.fit()"
   ],
   "metadata": {
    "collapsed": false,
    "pycharm": {
     "name": "#%%\n"
    }
   }
  },
  {
   "cell_type": "code",
   "execution_count": null,
   "outputs": [],
   "source": [
    "pred_uc = model_fit.get_forecast(steps=144*6)\n",
    "pred_ci = pred_uc.conf_int()\n",
    "pred    = pred_uc.predicted_mean"
   ],
   "metadata": {
    "collapsed": false,
    "pycharm": {
     "name": "#%%\n"
    }
   }
  },
  {
   "cell_type": "code",
   "execution_count": null,
   "outputs": [],
   "source": [
    "d = data_tid.query(\"TurbID == 1 and Day <= 10\")"
   ],
   "metadata": {
    "collapsed": false,
    "pycharm": {
     "name": "#%%\n"
    }
   }
  },
  {
   "cell_type": "code",
   "execution_count": null,
   "outputs": [],
   "source": [
    "fig, ax = plt.subplots(figsize=(20, 10))\n",
    "\n",
    "ax.plot(range(len(d)), d['Patv'], label='target')\n",
    "ax.plot(range(len(train_data), len(d)), pred, label='pred')\n",
    "plt.legend();"
   ],
   "metadata": {
    "collapsed": false,
    "pycharm": {
     "name": "#%%\n"
    }
   }
  },
  {
   "cell_type": "markdown",
   "source": [
    "---"
   ],
   "metadata": {
    "collapsed": false,
    "pycharm": {
     "name": "#%% md\n"
    }
   }
  },
  {
   "cell_type": "code",
   "execution_count": null,
   "outputs": [],
   "source": [
    "train_data, test_data = train_test_split(d, test_size=144, shuffle=False)"
   ],
   "metadata": {
    "collapsed": false,
    "pycharm": {
     "name": "#%%\n"
    }
   }
  },
  {
   "cell_type": "code",
   "execution_count": null,
   "outputs": [],
   "source": [
    "%%time\n",
    "\n",
    "model = SARIMAX(train_data['Wspd'], order=(0, 1, 0), seasonal_order=(0, 1, 1, 144))  # order=(p, d, q)\n",
    "model_fit = model.fit()"
   ],
   "metadata": {
    "collapsed": false,
    "pycharm": {
     "name": "#%%\n"
    }
   }
  },
  {
   "cell_type": "code",
   "execution_count": null,
   "outputs": [],
   "source": [
    "pred_uc = model_fit.get_forecast(steps=144*6)\n",
    "pred_ci = pred_uc.conf_int()\n",
    "pred    = pred_uc.predicted_mean"
   ],
   "metadata": {
    "collapsed": false,
    "pycharm": {
     "name": "#%%\n"
    }
   }
  },
  {
   "cell_type": "code",
   "execution_count": null,
   "outputs": [],
   "source": [
    "fig, ax = plt.subplots(figsize=(20, 10))\n",
    "\n",
    "ax.plot(range(len(d)), d['Wspd'], label='target')\n",
    "ax.plot(range(len(train_data), len(d)), pred, label='pred')\n",
    "plt.legend();"
   ],
   "metadata": {
    "collapsed": false,
    "pycharm": {
     "name": "#%%\n"
    }
   }
  },
  {
   "cell_type": "code",
   "execution_count": null,
   "id": "3a995dd4",
   "metadata": {
    "pycharm": {
     "name": "#%%\n"
    }
   },
   "outputs": [],
   "source": [
    "train_data, test_data = train_test_split(d, test_size=144, shuffle=False)"
   ]
  },
  {
   "cell_type": "code",
   "execution_count": null,
   "id": "648feca3",
   "metadata": {
    "pycharm": {
     "name": "#%%\n"
    }
   },
   "outputs": [],
   "source": [
    "%%time\n",
    "\n",
    "model = SARIMAX(train_data['Wspd'], order=(0, 1, 0), seasonal_order=(0, 1, 1, 144))  # order=(p, d, q)\n",
    "model_fit = model.fit()"
   ]
  },
  {
   "cell_type": "code",
   "execution_count": null,
   "id": "34b19f3d",
   "metadata": {
    "pycharm": {
     "name": "#%%\n"
    }
   },
   "outputs": [],
   "source": [
    "pred_uc = model_fit.get_forecast(steps=144*6)\n",
    "pred_ci = pred_uc.conf_int()\n",
    "pred    = pred_uc.predicted_mean"
   ]
  },
  {
   "cell_type": "code",
   "execution_count": null,
   "id": "8864dd7a",
   "metadata": {
    "pycharm": {
     "name": "#%%\n"
    }
   },
   "outputs": [],
   "source": [
    "fig, ax = plt.subplots(figsize=(20, 10))\n",
    "\n",
    "ax.plot(range(len(d)), d['Wspd'], label='target')\n",
    "ax.plot(range(len(train_data), len(d)), pred, label='pred')\n",
    "plt.legend();"
   ]
  },
  {
   "cell_type": "markdown",
   "id": "b9ced214",
   "metadata": {},
   "source": [
    "---"
   ]
  },
  {
   "cell_type": "code",
   "execution_count": null,
   "id": "8d6570f9",
   "metadata": {},
   "outputs": [],
   "source": [
    "%%time\n",
    "\n",
    "tmp = d[d['Day'] <= 5]\n",
    "fig, ax = plt.subplots(figsize=(40, 10))\n",
    "sns.lineplot(data=tmp, x='Tmstamp', y='Patv', hue='Day', legend='full', ax=ax)\n",
    "plt.legend(bbox_to_anchor=(1.02, 1), loc=2)\n",
    "plt.xticks(rotation=45)\n",
    "plt.title('Seasonal Plot')"
   ]
  },
  {
   "cell_type": "code",
   "execution_count": null,
   "id": "a6f41b20",
   "metadata": {
    "scrolled": false
   },
   "outputs": [],
   "source": [
    "import plotly.express as px\n",
    "\n",
    "tmp = d[d['Day'] <= 2]\n",
    "fig = px.line_polar(tmp, r='Patv', theta='Tmstamp', \n",
    "                    color='Day', line_close=True, \n",
    "                    title='Polar seasonal plot',\n",
    "                    width=1000, height=1000)\n",
    "fig.show()"
   ]
  },
  {
   "cell_type": "code",
   "execution_count": null,
   "id": "7c3958c5",
   "metadata": {},
   "outputs": [],
   "source": [
    "%%time\n",
    "from statsmodels.tsa.seasonal import seasonal_decompose\n",
    "\n",
    "tmp = d[d['Day'] <= 3]\n",
    "decomp = seasonal_decompose(tmp['Patv'], period=144)\n",
    "fig = decomp.plot()\n",
    "fig.set_size_inches((30, 10))\n",
    "fig.tight_layout()"
   ]
  },
  {
   "cell_type": "code",
   "execution_count": null,
   "id": "5a2851d1",
   "metadata": {},
   "outputs": [],
   "source": [
    "%%time\n",
    "\n",
    "from statsmodels.graphics.tsaplots import plot_acf, plot_pacf, month_plot, quarter_plot\n",
    "\n",
    "tmp = d[d['Day'] <= 5]\n",
    "fig, ax = plt.subplots(2, figsize=(30, 10))\n",
    "plot_acf(tmp['Patv'], ax=ax[0])\n",
    "plot_pacf(tmp['Patv'], ax=ax[1])"
   ]
  }
 ],
 "metadata": {
  "kernelspec": {
   "display_name": "full",
   "language": "python",
   "name": "full"
  },
  "language_info": {
   "codemirror_mode": {
    "name": "ipython",
    "version": 3
   },
   "file_extension": ".py",
   "mimetype": "text/x-python",
   "name": "python",
   "nbconvert_exporter": "python",
   "pygments_lexer": "ipython3",
   "version": "3.8.13"
  }
 },
 "nbformat": 4,
 "nbformat_minor": 5
}