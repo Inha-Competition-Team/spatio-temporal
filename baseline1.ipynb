{
 "cells": [
  {
   "cell_type": "code",
   "execution_count": 1,
   "id": "56dfc354",
   "metadata": {
    "pycharm": {
     "name": "#%%\n"
    }
   },
   "outputs": [],
   "source": [
    "import pandas as pd\n",
    "import numpy as np\n",
    "from tqdm import tqdm"
   ]
  },
  {
   "cell_type": "code",
   "execution_count": 2,
   "id": "8cacc39f",
   "metadata": {
    "pycharm": {
     "name": "#%%\n"
    }
   },
   "outputs": [
    {
     "name": "stdout",
     "output_type": "stream",
     "text": [
      "<class 'pandas.core.frame.DataFrame'>\n",
      "RangeIndex: 3859200 entries, 0 to 3859199\n",
      "Data columns (total 13 columns):\n",
      " #   Column   Dtype  \n",
      "---  ------   -----  \n",
      " 0   TurbID   int64  \n",
      " 1   Day      int64  \n",
      " 2   Tmstamp  object \n",
      " 3   Wspd     float64\n",
      " 4   Wdir     float64\n",
      " 5   Etmp     float64\n",
      " 6   Itmp     float64\n",
      " 7   Ndir     float64\n",
      " 8   Pab1     float64\n",
      " 9   Pab2     float64\n",
      " 10  Pab3     float64\n",
      " 11  Prtv     float64\n",
      " 12  Patv     float64\n",
      "dtypes: float64(10), int64(2), object(1)\n",
      "memory usage: 382.8+ MB\n"
     ]
    }
   ],
   "source": [
    "train_data = pd.read_csv(\"data/train_data.csv\")\n",
    "sample_submission = pd.read_csv(\"data/sample_submission.csv\")\n",
    "train_data = train_data.fillna(method = 'bfill')\n",
    "train_data.info()"
   ]
  },
  {
   "cell_type": "code",
   "execution_count": null,
   "outputs": [],
   "source": [
    "def make_train_data(data):\n",
    "    train_x, train_y = [], []\n",
    "    for i in tqdm(sorted(pd.unique(data['TurbID']))):\n",
    "        tmp_data = data[data['TurbID'] == i]\n",
    "        for j in range(1, 201 - 6):  # 6일\n",
    "            day_list       = [x for x in range(j, j+5)]\n",
    "            label_day_list = [y for y in range(j+5, j+7)]\n",
    "            \n",
    "            train_tmp = tmp_data[tmp_data['Day'].isin(day_list)]\n",
    "            label_tmp = tmp_data[tmp_data['Day'].isin(label_day_list)]['Patv']\n",
    "            \n",
    "            train_tmp = train_tmp.drop([\"TurbID\", \"Day\"], axis=1)\n",
    "            train_x.append(np.array(train_tmp))\n",
    "            train_y.append(np.array(label_tmp))\n",
    "    return train_x, train_y"
   ],
   "metadata": {
    "collapsed": false,
    "pycharm": {
     "name": "#%%\n"
    }
   }
  },
  {
   "cell_type": "code",
   "execution_count": null,
   "outputs": [],
   "source": [
    "tms_list = list(pd.unique(train_data['Tmstamp']))\n",
    "train_data['Tmstamp'] = train_data['Tmstamp'].apply(lambda x: tms_list.index(x)+1)\n",
    "train_x, train_y = make_train_data(train_data)"
   ],
   "metadata": {
    "collapsed": false,
    "pycharm": {
     "name": "#%%\n"
    }
   }
  },
  {
   "cell_type": "code",
   "execution_count": null,
   "outputs": [],
   "source": [
    "import tensorflow as tf\n",
    "from keras.models import Sequential\n",
    "from keras.layers import Dense, LSTM, GRU\n",
    "\n",
    "for gpu in tf.config.experimental.list_physical_devices('GPU'):\n",
    "    tf.config.experimental.set_memory_growth(gpu, True)"
   ],
   "metadata": {
    "collapsed": false,
    "pycharm": {
     "name": "#%%\n"
    }
   }
  },
  {
   "cell_type": "code",
   "execution_count": null,
   "outputs": [],
   "source": [
    "train_x = np.array(train_x).reshape(-1, train_x[0].shape[0], train_x[0].shape[1])\n",
    "train_y = np.array(train_y)\n",
    "\n",
    "train_x.shape, train_y.shape"
   ],
   "metadata": {
    "collapsed": false,
    "pycharm": {
     "name": "#%%\n"
    }
   }
  },
  {
   "cell_type": "code",
   "execution_count": 8,
   "id": "151462c9",
   "metadata": {
    "pycharm": {
     "name": "#%%\n"
    },
    "scrolled": false
   },
   "outputs": [
    {
     "name": "stderr",
     "output_type": "stream",
     "text": [
      "2022-07-09 13:15:40.859916: W tensorflow/core/framework/cpu_allocator_impl.cc:82] Allocation of 823553280 exceeds 10% of free system memory.\n",
      "2022-07-09 13:15:41.236905: W tensorflow/core/framework/cpu_allocator_impl.cc:82] Allocation of 823553280 exceeds 10% of free system memory.\n"
     ]
    },
    {
     "name": "stdout",
     "output_type": "stream",
     "text": [
      "Epoch 1/10\n"
     ]
    },
    {
     "name": "stderr",
     "output_type": "stream",
     "text": [
      "2022-07-09 13:15:42.999226: I tensorflow/stream_executor/cuda/cuda_dnn.cc:384] Loaded cuDNN version 8101\n"
     ]
    },
    {
     "name": "stdout",
     "output_type": "stream",
     "text": [
      "  3/204 [..............................] - ETA: 7s - loss: 312189.1562 - mae: 357.0135  "
     ]
    },
    {
     "name": "stderr",
     "output_type": "stream",
     "text": [
      "2022-07-09 13:15:43.537265: I tensorflow/stream_executor/cuda/cuda_blas.cc:1786] TensorFloat-32 will be used for the matrix multiplication. This will only be logged once.\n"
     ]
    },
    {
     "name": "stdout",
     "output_type": "stream",
     "text": [
      "204/204 [==============================] - 10s 37ms/step - loss: 187974.3125 - mae: 330.6494\n",
      "Epoch 2/10\n",
      "204/204 [==============================] - 8s 37ms/step - loss: 162182.8906 - mae: 314.8804\n",
      "Epoch 3/10\n",
      "204/204 [==============================] - 8s 37ms/step - loss: 152358.3125 - mae: 302.9175\n",
      "Epoch 4/10\n",
      "204/204 [==============================] - 8s 38ms/step - loss: 144841.1250 - mae: 292.7060\n",
      "Epoch 5/10\n",
      "204/204 [==============================] - 8s 37ms/step - loss: 136701.9688 - mae: 282.8264\n",
      "Epoch 6/10\n",
      "204/204 [==============================] - 8s 37ms/step - loss: 130888.4609 - mae: 274.9980\n",
      "Epoch 7/10\n",
      "204/204 [==============================] - 8s 37ms/step - loss: 125617.6016 - mae: 268.5308\n",
      "Epoch 8/10\n",
      "204/204 [==============================] - 8s 37ms/step - loss: 120703.5156 - mae: 262.2213\n",
      "Epoch 9/10\n",
      "204/204 [==============================] - 8s 37ms/step - loss: 116745.2500 - mae: 256.8172\n",
      "Epoch 10/10\n",
      "204/204 [==============================] - 8s 37ms/step - loss: 112719.8750 - mae: 251.2961\n"
     ]
    }
   ],
   "source": [
    "model.fit(train_x, train_y, epochs=10, batch_size=128);"
   ]
  },
  {
   "cell_type": "code",
   "execution_count": 9,
   "id": "bfd0bdc6",
   "metadata": {
    "pycharm": {
     "name": "#%%\n"
    }
   },
   "outputs": [
    {
     "data": {
      "text/plain": [
       "(134, 720, 11)"
      ]
     },
     "execution_count": 9,
     "metadata": {},
     "output_type": "execute_result"
    }
   ],
   "source": [
    "test_data_list = [x for x in range(196, 201)]\n",
    "test_data      = train_data[train_data[\"Day\"].isin(test_data_list)]\n",
    "test_data      = test_data.drop([\"TurbID\", \"Day\"], axis=1)\n",
    "test_data      = np.array(test_data).reshape(-1, train_x[0].shape[0], train_x[0].shape[1])\n",
    "test_data.shape"
   ]
  },
  {
   "cell_type": "code",
   "execution_count": 10,
   "id": "cdf88858",
   "metadata": {
    "pycharm": {
     "name": "#%%\n"
    }
   },
   "outputs": [
    {
     "name": "stdout",
     "output_type": "stream",
     "text": [
      "5/5 [==============================] - 0s 10ms/step\n"
     ]
    }
   ],
   "source": [
    "sample_submission['Patv'] = model.predict(test_data).reshape(-1)\n",
    "sample_submission.to_csv(\"output/baseline1.csv\", index=False)"
   ]
  }
 ],
 "metadata": {
  "kernelspec": {
   "display_name": "full",
   "language": "python",
   "name": "full"
  },
  "language_info": {
   "codemirror_mode": {
    "name": "ipython",
    "version": 3
   },
   "file_extension": ".py",
   "mimetype": "text/x-python",
   "name": "python",
   "nbconvert_exporter": "python",
   "pygments_lexer": "ipython3",
   "version": "3.8.13"
  }
 },
 "nbformat": 4,
 "nbformat_minor": 5
}